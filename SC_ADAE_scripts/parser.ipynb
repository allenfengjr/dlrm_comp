{
 "cells": [
  {
   "cell_type": "markdown",
   "metadata": {},
   "source": [
    "## For cuSZ"
   ]
  },
  {
   "cell_type": "markdown",
   "metadata": {},
   "source": [
    "### compression ratio"
   ]
  },
  {
   "cell_type": "code",
   "execution_count": 8,
   "metadata": {},
   "outputs": [],
   "source": [
    "import re\n",
    "\n",
    "log_text = \"\"\"\n",
    "The content you want to parser.\n",
    "\n",
    "\"\"\"\n",
    "\n",
    "# Regular expression to find the compression and decompression e2e times\n",
    "pattern = r\"compression ratio    ([\\d.]+)\"\n",
    "\n",
    "matches = re.findall(pattern, log_text)\n",
    "\n",
    "# Prepare the content to be written to a new file\n",
    "content_to_write = \"\\n\".join([\"\".join(match) for match in matches])\n",
    "\n",
    "# Path to the new file\n",
    "new_file_path = \"\"\n",
    "# Write to the new file\n",
    "with open(new_file_path, \"w\") as file:\n",
    "    file.write(content_to_write)\n",
    "\n",
    "\n"
   ]
  },
  {
   "cell_type": "markdown",
   "metadata": {},
   "source": [
    "### throughput"
   ]
  },
  {
   "cell_type": "code",
   "execution_count": 75,
   "metadata": {},
   "outputs": [],
   "source": [
    "import re\n",
    "\n",
    "log_text = \"\"\"\n",
    "  \u001b[1m\u001b[31mkernel           time, ms      GiB/s\u001b[0m\n",
    "  predict          0.076800     101.73\n",
    "  histogram        0.050176     155.70\n",
    "  huff-enc         0.158304      49.35\n",
    "  outlier          0.093184      83.84\n",
    "  (subtotal)       0.378464      20.64\n",
    "  book             0.816128       9.57\n",
    "  (total)          1.194592       6.54\n",
    "\"\"\"\n",
    "\n",
    "# Regular expression to find the compression and decompression e2e times\n",
    "pattern = r'\\(total\\)\\s+\\S+\\s+(\\S+)'\n",
    "\n",
    "matches = re.findall(pattern, log_text)\n",
    "\n",
    "# Prepare the content to be written to a new file\n",
    "content_to_write = \"\\n\".join([\"\".join(match) for match in matches])\n",
    "\n",
    "# Path to the new file\n",
    "new_file_path = \"\"\n",
    "\n",
    "# Write to the new file\n",
    "with open(new_file_path, \"w\") as file:\n",
    "    file.write(content_to_write)\n",
    "\n",
    "\n"
   ]
  },
  {
   "cell_type": "markdown",
   "metadata": {},
   "source": [
    "## For FZ-GPU"
   ]
  },
  {
   "cell_type": "markdown",
   "metadata": {},
   "source": [
    "### Compression ratio"
   ]
  },
  {
   "cell_type": "code",
   "execution_count": 10,
   "metadata": {},
   "outputs": [],
   "source": [
    "import re\n",
    "\n",
    "log_text = \"\"\"\n",
    "The content you want to parser.\n",
    "\n",
    "\"\"\"\n",
    "\n",
    "# Regular expression to find the compression and decompression e2e times\n",
    "pattern = r\"compression ratio: ([\\d.]+)\"\n",
    "\n",
    "matches = re.findall(pattern, log_text)\n",
    "\n",
    "# Prepare the content to be written to a new file\n",
    "content_to_write = \"\\n\".join([\"\".join(match) for match in matches])\n",
    "\n",
    "# Path to the new file\n",
    "new_file_path = \"\"\n",
    "\n",
    "# Write to the new file\n",
    "with open(new_file_path, \"w\") as file:\n",
    "    file.write(content_to_write)\n",
    "\n",
    "\n"
   ]
  },
  {
   "cell_type": "markdown",
   "metadata": {},
   "source": [
    "## For GPULZ"
   ]
  },
  {
   "cell_type": "markdown",
   "metadata": {},
   "source": [
    "### compression ratio"
   ]
  },
  {
   "cell_type": "code",
   "execution_count": 110,
   "metadata": {},
   "outputs": [],
   "source": [
    "import re\n",
    "\n",
    "log_text = \"\"\"\n",
    "Executing: /home/haofeng/ICS23-GPULZ/gpulz -i /home/haofeng/SC_emb_data/SC_TB_emb/EMB_0_iter_1.bin\n",
    "compression ratio: 1.57417\n",
    "compression e2e throughput: 0.208356 GB/s\n",
    "decompression e2e throughput: 0.0898898 GB/s\n",
    "Completed: EMB 0, Iter 1\n",
    "Executing: /home/haofeng/ICS23-GPULZ/gpulz -i /home/haofeng/SC_emb_data/SC_TB_emb/EMB_0_iter_2.bin\n",
    "compression ratio: 1.63449\n",
    "\n",
    "\"\"\"\n",
    "\n",
    "# Regular expression to find the compression and decompression e2e times\n",
    "pattern = r\"compression ratio: ([\\d.]+)\"\n",
    "\n",
    "matches = re.findall(pattern, log_text)\n",
    "\n",
    "# Prepare the content to be written to a new file\n",
    "content_to_write = \"\\n\".join([\"\".join(match) for match in matches])\n",
    "\n",
    "# Path to the new file\n",
    "new_file_path = \"\"\n",
    "\n",
    "# Write to the new file\n",
    "with open(new_file_path, \"w\") as file:\n",
    "    file.write(content_to_write)\n",
    "\n",
    "\n"
   ]
  },
  {
   "cell_type": "markdown",
   "metadata": {},
   "source": [
    "## For Huffman (simSZ)"
   ]
  },
  {
   "cell_type": "markdown",
   "metadata": {},
   "source": [
    "### compression ratio"
   ]
  },
  {
   "cell_type": "code",
   "execution_count": 111,
   "metadata": {},
   "outputs": [],
   "source": [
    "import re\n",
    "\n",
    "log_text = \"\"\"\n",
    "Executing: /home/haofeng/ICS23-GPULZ/gpulz -i /home/haofeng/SC_emb_data/SC_TB_emb/EMB_0_iter_1.bin\n",
    "compression ratio: 1.57417\n",
    "compression e2e throughput: 0.208356 GB/s\n",
    "decompression e2e throughput: 0.0898898 GB/s\n",
    "Completed: EMB 0, Iter 1\n",
    "Executing: /home/haofeng/ICS23-GPULZ/gpulz -i /home/haofeng/SC_emb_data/SC_TB_emb/EMB_0_iter_2.bin\n",
    "compression ratio: 1.63449\n",
    "\n",
    "\"\"\"\n",
    "\n",
    "# Regular expression to find the compression and decompression e2e times\n",
    "pattern = r\"compression ratio, ([\\d.]+)\"\n",
    "\n",
    "matches = re.findall(pattern, log_text)\n",
    "\n",
    "# Prepare the content to be written to a new file\n",
    "content_to_write = \"\\n\".join([\"\".join(match) for match in matches])\n",
    "\n",
    "# Path to the new file\n",
    "new_file_path = \"\"\n",
    "\n",
    "# Write to the new file\n",
    "with open(new_file_path, \"w\") as file:\n",
    "    file.write(content_to_write)\n",
    "\n",
    "\n"
   ]
  },
  {
   "cell_type": "markdown",
   "metadata": {},
   "source": [
    "## For NVComp"
   ]
  },
  {
   "cell_type": "markdown",
   "metadata": {},
   "source": [
    "### compression ratio"
   ]
  },
  {
   "cell_type": "code",
   "execution_count": 17,
   "metadata": {},
   "outputs": [],
   "source": [
    "import re\n",
    "\n",
    "log_text = \"\"\"\n",
    "The content you want to parser.\n",
    "\n",
    "\"\"\"\n",
    "\n",
    "# Regular expression to find the compression and decompression e2e times\n",
    "pattern = r\"compressed ratio: ([\\d.]+)\"\n",
    "\n",
    "matches = re.findall(pattern, log_text)\n",
    "\n",
    "# Prepare the content to be written to a new file\n",
    "content_to_write = \"\\n\".join([\"\".join(match) for match in matches])\n",
    "\n",
    "# Path to the new file\n",
    "new_file_path = \"\"\n",
    "\n",
    "# Write to the new file\n",
    "with open(new_file_path, \"w\") as file:\n",
    "    file.write(content_to_write)\n",
    "\n",
    "\n"
   ]
  },
  {
   "cell_type": "markdown",
   "metadata": {},
   "source": [
    "### throughput"
   ]
  },
  {
   "cell_type": "code",
   "execution_count": 88,
   "metadata": {},
   "outputs": [],
   "source": [
    "import re\n",
    "\n",
    "log_text = \"\"\"\n",
    "uncompressed (B): 8388608\n",
    "comp_size: 817405, compressed ratio: 10.2625\n",
    "compression throughput (GB/s): 4.0615\n",
    "decompression throughput (GB/s): 12.2635\n",
    "Completed: Table 0, Epoch 1, Iter 0\n",
    "\n",
    "\"\"\"\n",
    "\n",
    "# Regular expression to find the compression and decompression e2e times\n",
    "pattern = r'compression throughput (GB/s): ([\\d.]+)'\n",
    "# pattern = r'\\(total\\)\\s+\\S+\\s+(\\S+)'\n",
    "\n",
    "matches = re.findall(pattern, log_text)\n",
    "\n",
    "# Prepare the content to be written to a new file\n",
    "content_to_write = \"\\n\".join(matches)\n",
    "\n",
    "# Path to the new file\n",
    "new_file_path = \"\"\n",
    "\n",
    "# Write to the new file\n",
    "with open(new_file_path, \"w\") as file:\n",
    "    file.write(content_to_write)\n",
    "\n",
    "\n"
   ]
  },
  {
   "cell_type": "markdown",
   "metadata": {},
   "source": [
    "## For Deflate"
   ]
  },
  {
   "cell_type": "markdown",
   "metadata": {},
   "source": [
    "### compression ratio"
   ]
  },
  {
   "cell_type": "code",
   "execution_count": 20,
   "metadata": {},
   "outputs": [],
   "source": [
    "import re\n",
    "\n",
    "log_text = \"\"\"\n",
    "The content you want to parser.\n",
    "\n",
    "\"\"\"\n",
    "\n",
    "# Regular expression to find the compression and decompression e2e times\n",
    "pattern = r\"compressed ratio: ([\\d.]+)\"\n",
    "\n",
    "matches = re.findall(pattern, log_text)\n",
    "\n",
    "# Prepare the content to be written to a new file\n",
    "content_to_write = \"\\n\".join([\"\".join(match) for match in matches])\n",
    "\n",
    "# Path to the new file\n",
    "new_file_path = \"\"\n",
    "\n",
    "# Write to the new file\n",
    "with open(new_file_path, \"w\") as file:\n",
    "    file.write(content_to_write)"
   ]
  },
  {
   "cell_type": "markdown",
   "metadata": {},
   "source": [
    "## For hybrid"
   ]
  },
  {
   "cell_type": "markdown",
   "metadata": {},
   "source": [
    "### compression ratio"
   ]
  },
  {
   "cell_type": "code",
   "execution_count": 63,
   "metadata": {},
   "outputs": [],
   "source": [
    "import numpy as np\n",
    "\n",
    "file_path1 = 'ours_haffman_cr.txt'\n",
    "file_path2 = 'ours_gpulz_cr.txt'\n",
    "\n",
    "with open(file_path1, 'r') as file1:\n",
    "    # Read the file as a list of lines\n",
    "    data_list1 = [float(line.strip()) for line in file1.readlines()]\n",
    "    # Change the list to array\n",
    "    haffman_cr = np.array(data_list1)\n",
    "    \n",
    "with open(file_path2, 'r') as file2:\n",
    "    # Read the file as a list of lines\n",
    "    data_list2 = [float(line.strip()) for line in file2.readlines()]\n",
    "    # Change the list to array\n",
    "    gpulz_cr = np.array(data_list2)   \n",
    "\n",
    "max_array = np.maximum(haffman_cr, gpulz_cr)\n",
    "\n",
    "new_file_path = 'ours_hybrid_cr.txt'\n",
    "# Write to the new file\n",
    "with open(new_file_path, \"w\") as file:\n",
    "    for item in max_array:\n",
    "        file.write(f\"{item}\\n\")"
   ]
  }
 ],
 "metadata": {
  "kernelspec": {
   "display_name": "qiskit",
   "language": "python",
   "name": "python3"
  },
  "language_info": {
   "codemirror_mode": {
    "name": "ipython",
    "version": 3
   },
   "file_extension": ".py",
   "mimetype": "text/x-python",
   "name": "python",
   "nbconvert_exporter": "python",
   "pygments_lexer": "ipython3",
   "version": "3.10.6"
  },
  "orig_nbformat": 4
 },
 "nbformat": 4,
 "nbformat_minor": 2
}
